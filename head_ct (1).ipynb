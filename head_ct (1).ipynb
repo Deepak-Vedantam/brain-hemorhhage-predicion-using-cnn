{
  "nbformat": 4,
  "nbformat_minor": 0,
  "metadata": {
    "colab": {
      "name": "head ct.ipynb",
      "provenance": [],
      "collapsed_sections": []
    },
    "kernelspec": {
      "name": "python3",
      "display_name": "Python 3"
    },
    "accelerator": "GPU"
  },
  "cells": [
    {
      "cell_type": "code",
      "metadata": {
        "id": "V1_aQWaJSPUX"
      },
      "source": [
        "import numpy as np\n",
        "from tensorflow import keras\n",
        "from keras.layers import Conv2D,MaxPool2D,BatchNormalization,Dense,Flatten,Dropout,AvgPool2D\n",
        "from keras.models import Sequential\n",
        "from keras.preprocessing import image\n",
        "from keras.preprocessing.image import ImageDataGenerator\n",
        "import cv2\n",
        "import matplotlib.pyplot as plt"
      ],
      "execution_count": 74,
      "outputs": []
    },
    {
      "cell_type": "code",
      "metadata": {
        "id": "c8sF4VcVT4Og"
      },
      "source": [
        "train=ImageDataGenerator(rescale=1/255)\n",
        "test=ImageDataGenerator(rescale=1/255)\n",
        "val=ImageDataGenerator(rescale=1/255)"
      ],
      "execution_count": 75,
      "outputs": []
    },
    {
      "cell_type": "code",
      "metadata": {
        "id": "R6x9V-_PUYVj",
        "outputId": "61bb41c4-8996-473b-bf29-fd63e8d2d115",
        "colab": {
          "base_uri": "https://localhost:8080/",
          "height": 68
        }
      },
      "source": [
        "train_dataset=train.flow_from_directory('/content/train',\n",
        "                                        target_size=(128,128),                                   \n",
        "                                        class_mode='binary',\n",
        "                                        )\n",
        "val_dataset=val.flow_from_directory('/content/drive/My Drive/head_ct/val',\n",
        "                                        target_size=(128,128),                                       \n",
        "                                       class_mode='binary',\n",
        "                                        )\n",
        "test_dataset=test.flow_from_directory('/content/drive/My Drive/head_ct/test',\n",
        "                                        target_size=(128,128),                                       \n",
        "                                       class_mode='binary',\n",
        "                                        )\n"
      ],
      "execution_count": 78,
      "outputs": [
        {
          "output_type": "stream",
          "text": [
            "Found 2719 images belonging to 2 classes.\n",
            "Found 48 images belonging to 2 classes.\n",
            "Found 40 images belonging to 2 classes.\n"
          ],
          "name": "stdout"
        }
      ]
    },
    {
      "cell_type": "code",
      "metadata": {
        "id": "7DQXJCwiUvbR",
        "outputId": "168f07fe-23fa-4387-b0aa-34b4915c18b9",
        "colab": {
          "base_uri": "https://localhost:8080/",
          "height": 34
        }
      },
      "source": [
        "val_dataset.class_indices"
      ],
      "execution_count": 83,
      "outputs": [
        {
          "output_type": "execute_result",
          "data": {
            "text/plain": [
              "{'negative': 0, 'positive': 1}"
            ]
          },
          "metadata": {
            "tags": []
          },
          "execution_count": 83
        }
      ]
    },
    {
      "cell_type": "code",
      "metadata": {
        "id": "FxoM5lGbVDEz",
        "outputId": "928e9cb7-fbb5-48cd-b0cf-c6973db8a473",
        "colab": {
          "base_uri": "https://localhost:8080/",
          "height": 1000
        }
      },
      "source": [
        "model=Sequential()\n",
        "model.add(Conv2D(256,(1,1),input_shape=(128,128,3),activation='relu',kernel_initializer='he_uniform'))\n",
        "model.add(BatchNormalization())\n",
        "model.add(MaxPool2D(2,2))\n",
        "model.add(Conv2D(256,(1,1),activation='relu',kernel_initializer='he_uniform'))\n",
        "model.add(BatchNormalization())\n",
        "model.add(MaxPool2D(2,2))\n",
        "model.add(Conv2D(256,(1,1),activation='relu',kernel_initializer='he_uniform'))\n",
        "model.add(BatchNormalization())\n",
        "model.add(MaxPool2D(2,2))\n",
        "model.add(Conv2D(256,(3,3),activation='relu',kernel_initializer='he_uniform'))\n",
        "model.add(BatchNormalization())\n",
        "model.add(MaxPool2D(2,2))\n",
        "model.add(Conv2D(256,(3,3),activation='relu',kernel_initializer='he_uniform'))\n",
        "model.add(BatchNormalization())\n",
        "model.add(MaxPool2D(2,2))\n",
        "model.add(Conv2D(256,(1,1),activation='relu',kernel_initializer='he_uniform'))\n",
        "model.add(BatchNormalization())\n",
        "model.add(MaxPool2D(2,2))\n",
        "model.add(Flatten())\n",
        "model.add(Dense(128,activation='relu',kernel_initializer='he_uniform',kernel_regularizer='l2'))\n",
        "model.add(BatchNormalization())\n",
        "model.add(Dense(64,activation='relu',kernel_initializer='he_uniform',kernel_regularizer='l2'))\n",
        "model.add(BatchNormalization())\n",
        "model.add(Dense(32,activation='relu',kernel_initializer='he_uniform',kernel_regularizer='l2'))\n",
        "model.add(BatchNormalization())\n",
        "model.add(Dense(1,activation='sigmoid'))\n",
        "print(model.summary())"
      ],
      "execution_count": 187,
      "outputs": [
        {
          "output_type": "stream",
          "text": [
            "Model: \"sequential_8\"\n",
            "_________________________________________________________________\n",
            "Layer (type)                 Output Shape              Param #   \n",
            "=================================================================\n",
            "conv2d_48 (Conv2D)           (None, 128, 128, 256)     1024      \n",
            "_________________________________________________________________\n",
            "batch_normalization_18 (Batc (None, 128, 128, 256)     1024      \n",
            "_________________________________________________________________\n",
            "max_pooling2d_48 (MaxPooling (None, 64, 64, 256)       0         \n",
            "_________________________________________________________________\n",
            "conv2d_49 (Conv2D)           (None, 64, 64, 256)       65792     \n",
            "_________________________________________________________________\n",
            "batch_normalization_19 (Batc (None, 64, 64, 256)       1024      \n",
            "_________________________________________________________________\n",
            "max_pooling2d_49 (MaxPooling (None, 32, 32, 256)       0         \n",
            "_________________________________________________________________\n",
            "conv2d_50 (Conv2D)           (None, 32, 32, 256)       65792     \n",
            "_________________________________________________________________\n",
            "batch_normalization_20 (Batc (None, 32, 32, 256)       1024      \n",
            "_________________________________________________________________\n",
            "max_pooling2d_50 (MaxPooling (None, 16, 16, 256)       0         \n",
            "_________________________________________________________________\n",
            "conv2d_51 (Conv2D)           (None, 14, 14, 256)       590080    \n",
            "_________________________________________________________________\n",
            "batch_normalization_21 (Batc (None, 14, 14, 256)       1024      \n",
            "_________________________________________________________________\n",
            "max_pooling2d_51 (MaxPooling (None, 7, 7, 256)         0         \n",
            "_________________________________________________________________\n",
            "conv2d_52 (Conv2D)           (None, 5, 5, 256)         590080    \n",
            "_________________________________________________________________\n",
            "batch_normalization_22 (Batc (None, 5, 5, 256)         1024      \n",
            "_________________________________________________________________\n",
            "max_pooling2d_52 (MaxPooling (None, 2, 2, 256)         0         \n",
            "_________________________________________________________________\n",
            "conv2d_53 (Conv2D)           (None, 2, 2, 256)         65792     \n",
            "_________________________________________________________________\n",
            "batch_normalization_23 (Batc (None, 2, 2, 256)         1024      \n",
            "_________________________________________________________________\n",
            "max_pooling2d_53 (MaxPooling (None, 1, 1, 256)         0         \n",
            "_________________________________________________________________\n",
            "flatten_8 (Flatten)          (None, 256)               0         \n",
            "_________________________________________________________________\n",
            "dense_32 (Dense)             (None, 128)               32896     \n",
            "_________________________________________________________________\n",
            "batch_normalization_24 (Batc (None, 128)               512       \n",
            "_________________________________________________________________\n",
            "dense_33 (Dense)             (None, 64)                8256      \n",
            "_________________________________________________________________\n",
            "batch_normalization_25 (Batc (None, 64)                256       \n",
            "_________________________________________________________________\n",
            "dense_34 (Dense)             (None, 32)                2080      \n",
            "_________________________________________________________________\n",
            "batch_normalization_26 (Batc (None, 32)                128       \n",
            "_________________________________________________________________\n",
            "dense_35 (Dense)             (None, 1)                 33        \n",
            "=================================================================\n",
            "Total params: 1,428,865\n",
            "Trainable params: 1,425,345\n",
            "Non-trainable params: 3,520\n",
            "_________________________________________________________________\n",
            "None\n"
          ],
          "name": "stdout"
        }
      ]
    },
    {
      "cell_type": "code",
      "metadata": {
        "id": "1u5N0VkaV3pa"
      },
      "source": [
        "model.compile(optimizer='adam',loss='binary_crossentropy',metrics=['accuracy'])"
      ],
      "execution_count": 188,
      "outputs": []
    },
    {
      "cell_type": "code",
      "metadata": {
        "id": "8jrJCduwWRr6",
        "outputId": "3be0c426-1c1b-4e16-d8c9-3941de19782e",
        "colab": {
          "base_uri": "https://localhost:8080/",
          "height": 54
        }
      },
      "source": [
        "history=model.fit(train_dataset,epochs=1,validation_data=val_dataset)"
      ],
      "execution_count": 227,
      "outputs": [
        {
          "output_type": "stream",
          "text": [
            "85/85 [==============================] - 17s 204ms/step - loss: 0.1608 - accuracy: 0.9772 - val_loss: 0.2641 - val_accuracy: 0.9583\n"
          ],
          "name": "stdout"
        }
      ]
    },
    {
      "cell_type": "code",
      "metadata": {
        "id": "csMNLJ1IWdTY",
        "outputId": "c2c39ea8-bb76-4808-8eaa-81a7c990ec71",
        "colab": {
          "base_uri": "https://localhost:8080/",
          "height": 51
        }
      },
      "source": [
        "model.evaluate(test_dataset)"
      ],
      "execution_count": 228,
      "outputs": [
        {
          "output_type": "stream",
          "text": [
            "2/2 [==============================] - 0s 16ms/step - loss: 0.3142 - accuracy: 0.9750\n"
          ],
          "name": "stdout"
        },
        {
          "output_type": "execute_result",
          "data": {
            "text/plain": [
              "[0.3142003118991852, 0.9750000238418579]"
            ]
          },
          "metadata": {
            "tags": []
          },
          "execution_count": 228
        }
      ]
    },
    {
      "cell_type": "code",
      "metadata": {
        "id": "fyPfnCgzeojn"
      },
      "source": [
        "img=image.load_img('/content/hem.jpg',target_size=(128,128))\n"
      ],
      "execution_count": 238,
      "outputs": []
    },
    {
      "cell_type": "code",
      "metadata": {
        "id": "OdZhvuGg2RQZ",
        "outputId": "1f0314ca-95f1-46d3-92a7-501ca6ce6e80",
        "colab": {
          "base_uri": "https://localhost:8080/",
          "height": 285
        }
      },
      "source": [
        "plt.imshow(img)"
      ],
      "execution_count": 239,
      "outputs": [
        {
          "output_type": "execute_result",
          "data": {
            "text/plain": [
              "<matplotlib.image.AxesImage at 0x7fd8c2deea20>"
            ]
          },
          "metadata": {
            "tags": []
          },
          "execution_count": 239
        },
        {
          "output_type": "display_data",
          "data": {
            "image/png": "[encoded data removed]",
            "text/plain": [
              "<Figure size 432x288 with 1 Axes>"
            ]
          },
          "metadata": {
            "tags": [],
            "needs_background": "light"
          }
        }
      ]
    },
    {
      "cell_type": "code",
      "metadata": {
        "id": "9-0wsUl8gllj"
      },
      "source": [
        "img1=image.img_to_array(img)\n",
        "img1=img1/255"
      ],
      "execution_count": 240,
      "outputs": []
    },
    {
      "cell_type": "code",
      "metadata": {
        "id": "REt2F9j7jYwV"
      },
      "source": [
        "img1=np.expand_dims(img1,[0])"
      ],
      "execution_count": 241,
      "outputs": []
    },
    {
      "cell_type": "code",
      "metadata": {
        "id": "pgGsOnvJkAZ2",
        "outputId": "5dd46600-04f8-4ff4-8152-0830084d8d65",
        "colab": {
          "base_uri": "https://localhost:8080/",
          "height": 34
        }
      },
      "source": [
        "img1.shape"
      ],
      "execution_count": 242,
      "outputs": [
        {
          "output_type": "execute_result",
          "data": {
            "text/plain": [
              "(1, 128, 128, 3)"
            ]
          },
          "metadata": {
            "tags": []
          },
          "execution_count": 242
        }
      ]
    },
    {
      "cell_type": "code",
      "metadata": {
        "id": "_cC9eiV0kIjj",
        "outputId": "6ac6ab44-e97e-44d4-ef0f-4c87435a0046",
        "colab": {
          "base_uri": "https://localhost:8080/",
          "height": 34
        }
      },
      "source": [
        "pred=model.predict(img1)\n",
        "if(pred[0]>=0.5):\n",
        "  print('positive')\n",
        "else:\n",
        "  print('negative')"
      ],
      "execution_count": 243,
      "outputs": [
        {
          "output_type": "stream",
          "text": [
            "positive\n"
          ],
          "name": "stdout"
        }
      ]
    },
    {
      "cell_type": "code",
      "metadata": {
        "id": "eT0ytm1dkNZD",
        "outputId": "07ca00dc-400b-494f-d801-f05b248a6acd",
        "colab": {
          "base_uri": "https://localhost:8080/",
          "height": 34
        }
      },
      "source": [
        "pred"
      ],
      "execution_count": 244,
      "outputs": [
        {
          "output_type": "execute_result",
          "data": {
            "text/plain": [
              "array([[0.82470614]], dtype=float32)"
            ]
          },
          "metadata": {
            "tags": []
          },
          "execution_count": 244
        }
      ]
    },
    {
      "cell_type": "code",
      "metadata": {
        "id": "bst_2Lv1BTkr"
      },
      "source": [
        ""
      ],
      "execution_count": null,
      "outputs": []
    }
  ]
}